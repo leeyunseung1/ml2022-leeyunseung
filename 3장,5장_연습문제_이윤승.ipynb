{
  "nbformat": 4,
  "nbformat_minor": 0,
  "metadata": {
    "colab": {
      "provenance": [],
      "authorship_tag": "ABX9TyM/q1RhtscI1SGSk20mz24d",
      "include_colab_link": true
    },
    "kernelspec": {
      "name": "python3",
      "display_name": "Python 3"
    },
    "language_info": {
      "name": "python"
    }
  },
  "cells": [
    {
      "cell_type": "markdown",
      "metadata": {
        "id": "view-in-github",
        "colab_type": "text"
      },
      "source": [
        "<a href=\"https://colab.research.google.com/github/leeyunseung1/ml2022-leeyunseung/blob/main/3%EC%9E%A5%2C5%EC%9E%A5_%EC%97%B0%EC%8A%B5%EB%AC%B8%EC%A0%9C_%EC%9D%B4%EC%9C%A4%EC%8A%B9.ipynb\" target=\"_parent\"><img src=\"https://colab.research.google.com/assets/colab-badge.svg\" alt=\"Open In Colab\"/></a>"
      ]
    },
    {
      "cell_type": "markdown",
      "source": [
        "1.다음  K-평균 군집화 과정에 대한 물음에 답하시오.\n"
      ],
      "metadata": {
        "id": "4KIYWUmyLfkn"
      }
    },
    {
      "cell_type": "code",
      "source": [
        "#(1) 군집 1에 있는 d의 거리를 구하시오 (각 선의 숫자는 거리를 의미).\n",
        "import math\n",
        "\n",
        "def distance(x1, y1, x2, y2):\n",
        "    return math.sqrt((x2 - x1)**2 + (y2 - y1)**2)\n",
        "\n",
        "\n",
        "x1, y1 = 10, 15\n",
        "x2, y2 = 13, 19\n",
        "print(distance(x1, y1, x2, y2)) "
      ],
      "metadata": {
        "colab": {
          "base_uri": "https://localhost:8080/"
        },
        "id": "bTu9buBfKDSw",
        "outputId": "f52d14df-3092-46c8-95f2-d1d85fb87ee5"
      },
      "execution_count": 8,
      "outputs": [
        {
          "output_type": "stream",
          "name": "stdout",
          "text": [
            "5.0\n"
          ]
        }
      ]
    },
    {
      "cell_type": "code",
      "source": [
        "#(2) 각 군집의 WSS를 구하고, TWSS를 구하시오.\n",
        "WSS1= 3**2+4**2+5**2\n",
        "print(WSS1)"
      ],
      "metadata": {
        "colab": {
          "base_uri": "https://localhost:8080/"
        },
        "id": "8IzkE0AFK2Nf",
        "outputId": "40fef8ef-b951-44d7-ec79-73cf8812b2ee"
      },
      "execution_count": 13,
      "outputs": [
        {
          "output_type": "stream",
          "name": "stdout",
          "text": [
            "50\n"
          ]
        }
      ]
    },
    {
      "cell_type": "code",
      "source": [
        "WSS2= 4**2+4**2\n",
        "print(WSS2)"
      ],
      "metadata": {
        "colab": {
          "base_uri": "https://localhost:8080/"
        },
        "id": "fWPpdAJSLLzQ",
        "outputId": "b8c6b747-6110-48b0-83fe-3d54a881df02"
      },
      "execution_count": 14,
      "outputs": [
        {
          "output_type": "stream",
          "name": "stdout",
          "text": [
            "32\n"
          ]
        }
      ]
    },
    {
      "cell_type": "code",
      "source": [
        "TWSS= WSS1+WSS2\n",
        "print(TWSS)"
      ],
      "metadata": {
        "colab": {
          "base_uri": "https://localhost:8080/"
        },
        "id": "R3CmhmZ0LUZ4",
        "outputId": "5d26fd22-9dfd-4bbf-8fcb-d0103cb9576a"
      },
      "execution_count": 16,
      "outputs": [
        {
          "output_type": "stream",
          "name": "stdout",
          "text": [
            "82\n"
          ]
        }
      ]
    },
    {
      "cell_type": "markdown",
      "source": [
        "(3) K의 변화에 따른 TWSS는 다음과 같다. 군집의 수는 몇 개로 정하면 좋을까? \n"
      ],
      "metadata": {
        "id": "NqFE1SwMLdCA"
      }
    },
    {
      "cell_type": "markdown",
      "source": [
        "군집의 수가 4에서 5로 갈 때 기울기의 변화가 급격히 줄어들기 때문에 군집의 수는 4개가 가장 적당하다고 할 수 있다."
      ],
      "metadata": {
        "id": "KtY0OIhHOnph"
      }
    },
    {
      "cell_type": "code",
      "source": [
        "from sklearn.cluster import KMeans\n",
        "from sklearn.preprocessing import StandardScaler\n",
        "import pandas as pd\n",
        "import numpy as np\n",
        "import matplotlib.pyplot as plt"
      ],
      "metadata": {
        "id": "Zy-V7_J_OqII"
      },
      "execution_count": 20,
      "outputs": []
    },
    {
      "cell_type": "code",
      "source": [
        "data = np.array([[1,4],[4,2],[3,7],[6,1],[2,5]])\n",
        "data"
      ],
      "metadata": {
        "colab": {
          "base_uri": "https://localhost:8080/"
        },
        "id": "GyBPKpSRP8OA",
        "outputId": "5a96307e-dab6-4177-ecdb-80762f6647b4"
      },
      "execution_count": 21,
      "outputs": [
        {
          "output_type": "execute_result",
          "data": {
            "text/plain": [
              "array([[1, 4],\n",
              "       [4, 2],\n",
              "       [3, 7],\n",
              "       [6, 1],\n",
              "       [2, 5]])"
            ]
          },
          "metadata": {},
          "execution_count": 21
        }
      ]
    },
    {
      "cell_type": "code",
      "source": [
        "plt.scatter(data[:,0],data[:,1])\n",
        "plt.xlabel('X')\n",
        "plt.ylabel('Y')\n",
        "plt.xlim(0,10)\n",
        "plt.ylim(0,10)\n",
        "\n",
        "rows, columns=data.shape\n",
        "for i in range(rows):\n",
        "     plt.annotate(i+1, (data[i,0],data[i,1]))"
      ],
      "metadata": {
        "colab": {
          "base_uri": "https://localhost:8080/",
          "height": 455
        },
        "id": "NchlJ18NPW6n",
        "outputId": "e962a731-2b06-4c80-8722-de6cba2617fe"
      },
      "execution_count": 23,
      "outputs": [
        {
          "output_type": "display_data",
          "data": {
            "text/plain": [
              "<Figure size 640x480 with 1 Axes>"
            ],
            "image/png": "[encoded data removed]"
          },
          "metadata": {}
        }
      ]
    },
    {
      "cell_type": "code",
      "source": [
        "scaler = StandardScaler()\n",
        "scaler.fit(data)\n",
        "data_std = scaler.transform(data)\n",
        "print(data_std)"
      ],
      "metadata": {
        "colab": {
          "base_uri": "https://localhost:8080/"
        },
        "id": "uiTx68Z7QILo",
        "outputId": "6a98affa-05d0-4ae3-c841-701bf03fd458"
      },
      "execution_count": 24,
      "outputs": [
        {
          "output_type": "stream",
          "name": "stdout",
          "text": [
            "[[-1.27872403  0.09365858]\n",
            " [ 0.46499055 -0.84292723]\n",
            " [-0.11624764  1.4985373 ]\n",
            " [ 1.62746694 -1.31122014]\n",
            " [-0.69748583  0.56195149]]\n"
          ]
        }
      ]
    },
    {
      "cell_type": "code",
      "source": [
        "plt.scatter(data_std[:,0], data_std[:,1])\n",
        "plt.xlabel('X')\n",
        "plt.ylabel('Y')\n",
        "plt.xlim(-2, 2)\n",
        "plt.ylim(-2, 2)\n",
        "\n",
        "rows, columns = data_std.shape\n",
        "for i in range(rows):\n",
        "  plt.annotate(i+1, (data_std[i,0], data_std[i,1])) "
      ],
      "metadata": {
        "colab": {
          "base_uri": "https://localhost:8080/",
          "height": 455
        },
        "id": "pkM73gXqQVZo",
        "outputId": "1756dba1-57b9-4ce8-9f3d-462184f7c76d"
      },
      "execution_count": 26,
      "outputs": [
        {
          "output_type": "display_data",
          "data": {
            "text/plain": [
              "<Figure size 640x480 with 1 Axes>"
            ],
            "image/png": "[encoded data removed]"
          },
          "metadata": {}
        }
      ]
    },
    {
      "cell_type": "code",
      "source": [
        "kmeans = KMeans(n_clusters=2)\n",
        "kmeans.fit(data_std)\n",
        "print(kmeans.labels_)\n",
        "print(kmeans.cluster_centers_)"
      ],
      "metadata": {
        "colab": {
          "base_uri": "https://localhost:8080/"
        },
        "id": "8QTInvIuQZxA",
        "outputId": "039714b5-2d1d-4ef6-b238-0f4462933517"
      },
      "execution_count": 27,
      "outputs": [
        {
          "output_type": "stream",
          "name": "stderr",
          "text": [
            "/usr/local/lib/python3.9/dist-packages/sklearn/cluster/_kmeans.py:870: FutureWarning: The default value of `n_init` will change from 10 to 'auto' in 1.4. Set the value of `n_init` explicitly to suppress the warning\n",
            "  warnings.warn(\n"
          ]
        },
        {
          "output_type": "stream",
          "name": "stdout",
          "text": [
            "[0 1 0 1 0]\n",
            "[[-0.69748583  0.71804912]\n",
            " [ 1.04622875 -1.07707368]]\n"
          ]
        }
      ]
    },
    {
      "cell_type": "code",
      "source": [
        "plt.scatter(data_std[:,0], data_std[:,1], c=kmeans.labels_, s=50)\n",
        "plt.xlabel('X')\n",
        "plt.ylabel('Y')\n",
        "plt.xlim(-2, 2)\n",
        "plt.ylim(-2, 2)\n",
        "\n",
        "rows, columns = data_std.shape\n",
        "\n",
        "for i in range(rows):\n",
        "  plt.annotate(i+1, (data_std[i,0], data_std[i,1]))  \n",
        " \n",
        "plt.scatter(kmeans.cluster_centers_[:, 0], \n",
        "            kmeans.cluster_centers_[:, 1], \n",
        "            c='red', s=200, alpha=0.5);\n",
        "for k in range(columns):\n",
        "  plt.annotate(k, \n",
        "              (kmeans.cluster_centers_[k, 0], kmeans.cluster_centers_[k, 1]))\n",
        "     "
      ],
      "metadata": {
        "colab": {
          "base_uri": "https://localhost:8080/",
          "height": 455
        },
        "id": "RIE7S2hsQc9Y",
        "outputId": "d324b2cf-01ef-4b11-e990-b53fcb8440bf"
      },
      "execution_count": 29,
      "outputs": [
        {
          "output_type": "display_data",
          "data": {
            "text/plain": [
              "<Figure size 640x480 with 1 Axes>"
            ],
            "image/png": "[encoded data removed]"
          },
          "metadata": {}
        }
      ]
    },
    {
      "cell_type": "code",
      "source": [
        "TWSS = {}\n",
        "for k in range(1, 6): \n",
        "  model = KMeans(n_clusters=k)\n",
        "  model.fit(data_std)\n",
        "  TWSS[k] = model.inertia_\n",
        "\n",
        "plt.plot(list(TWSS.keys()), list(TWSS.values()), marker='o')\n",
        "plt.xlabel(\"Number of Clusters(K)\")\n",
        "plt.ylabel(\"TWSS\")\n",
        "plt.show()"
      ],
      "metadata": {
        "colab": {
          "base_uri": "https://localhost:8080/",
          "height": 654
        },
        "id": "ZcCIEYBmRFxZ",
        "outputId": "cface321-d1bf-4d21-fdd6-c04d6d348488"
      },
      "execution_count": 30,
      "outputs": [
        {
          "output_type": "stream",
          "name": "stderr",
          "text": [
            "/usr/local/lib/python3.9/dist-packages/sklearn/cluster/_kmeans.py:870: FutureWarning: The default value of `n_init` will change from 10 to 'auto' in 1.4. Set the value of `n_init` explicitly to suppress the warning\n",
            "  warnings.warn(\n",
            "/usr/local/lib/python3.9/dist-packages/sklearn/cluster/_kmeans.py:870: FutureWarning: The default value of `n_init` will change from 10 to 'auto' in 1.4. Set the value of `n_init` explicitly to suppress the warning\n",
            "  warnings.warn(\n",
            "/usr/local/lib/python3.9/dist-packages/sklearn/cluster/_kmeans.py:870: FutureWarning: The default value of `n_init` will change from 10 to 'auto' in 1.4. Set the value of `n_init` explicitly to suppress the warning\n",
            "  warnings.warn(\n",
            "/usr/local/lib/python3.9/dist-packages/sklearn/cluster/_kmeans.py:870: FutureWarning: The default value of `n_init` will change from 10 to 'auto' in 1.4. Set the value of `n_init` explicitly to suppress the warning\n",
            "  warnings.warn(\n",
            "/usr/local/lib/python3.9/dist-packages/sklearn/cluster/_kmeans.py:870: FutureWarning: The default value of `n_init` will change from 10 to 'auto' in 1.4. Set the value of `n_init` explicitly to suppress the warning\n",
            "  warnings.warn(\n"
          ]
        },
        {
          "output_type": "display_data",
          "data": {
            "text/plain": [
              "<Figure size 640x480 with 1 Axes>"
            ],
            "image/png": "[encoded data removed]"
          },
          "metadata": {}
        }
      ]
    },
    {
      "cell_type": "markdown",
      "source": [
        "2. 다음 5개의 개체를 두 개의 군집(K=2)으로 분류하려고 한다. 다음 물음에 단계쩍으로 답하시오."
      ],
      "metadata": {
        "id": "stv3LPm3Rk2g"
      }
    },
    {
      "cell_type": "markdown",
      "source": [
        "(1) 다음 표의 빈칸을 계산하고, 각 개체를 군집1과 군집2에 할당하시오. 군집1과 군집2의 초기 군집 중심심은 각각 ID가 1,2인 개체로 한다."
      ],
      "metadata": {
        "id": "vlBKvktOSCXG"
      }
    },
    {
      "cell_type": "markdown",
      "source": [
        "[-1.27872403, 0.09365858, 0.85305, 2.60307, 0]"
      ],
      "metadata": {
        "id": "IvVeCr-HSW_f"
      }
    },
    {
      "cell_type": "markdown",
      "source": [
        "[ 0.46499055, -0.84292723, 1.94627, 0.62662, 1]"
      ],
      "metadata": {
        "id": "mi7EsZ1WSXB_"
      }
    },
    {
      "cell_type": "markdown",
      "source": [
        "[-0.11624764, 1.4985373, 0.97313, 2.82579, 0]"
      ],
      "metadata": {
        "id": "wk2CjviWSXEX"
      }
    },
    {
      "cell_type": "markdown",
      "source": [
        "[ 1.62746694, -1.31122014, 3.08599, 0.62662, 1]\n"
      ],
      "metadata": {
        "id": "5ZghP6gmSXYf"
      }
    },
    {
      "cell_type": "markdown",
      "source": [
        "[-0.69748583, 0.56195149, 0.15609, 2.39310, 0]\n"
      ],
      "metadata": {
        "id": "jj8zUl0-SizV"
      }
    },
    {
      "cell_type": "markdown",
      "source": [
        "(2) 할당된 군집 1과 군집 2의 중심을 구하시오."
      ],
      "metadata": {
        "id": "yVVHyM9Tag5a"
      }
    },
    {
      "cell_type": "markdown",
      "source": [
        "군집1[-0.69748583  0.71804912] 군집2[1.04622875 -1.07707368]"
      ],
      "metadata": {
        "id": "RqmiUVqVag7_"
      }
    },
    {
      "cell_type": "markdown",
      "source": [
        "(3) 각 군집의 WSS와 TWSS를 구하시오."
      ],
      "metadata": {
        "id": "hiXs86QyahLn"
      }
    },
    {
      "cell_type": "markdown",
      "source": [
        "군집1의WSS 15.01034 군집2의WSS 21.27329 TWSS 36.28363"
      ],
      "metadata": {
        "id": "MCo9GM5Ra7MA"
      }
    },
    {
      "cell_type": "markdown",
      "source": [
        "1. 그래프의 두 점 A,B에 대해 다음 물음에 답하시오."
      ],
      "metadata": {
        "id": "XtXYS7Dnt85X"
      }
    },
    {
      "cell_type": "markdown",
      "source": [],
      "metadata": {
        "id": "MD8-RRYTuR9Q"
      }
    },
    {
      "cell_type": "code",
      "source": [
        "#(1)유클리드 거리를 구하시오오\n",
        "import math\n",
        "\n",
        "v1 = (1, 4)\n",
        "v2 = (4, 2)\n",
        "\n",
        "distance = math.sqrt((v1[0] - v2[0])**2 + (v1[1] - v2[1])**2)\n",
        "print(distance)"
      ],
      "metadata": {
        "colab": {
          "base_uri": "https://localhost:8080/"
        },
        "id": "KNO9hfHDuBdn",
        "outputId": "88f735fa-103c-4479-9310-0642b8376a1e"
      },
      "execution_count": 4,
      "outputs": [
        {
          "output_type": "stream",
          "name": "stdout",
          "text": [
            "3.605551275463989\n"
          ]
        }
      ]
    },
    {
      "cell_type": "code",
      "source": [
        "#(2)맨하하탄 거리를 구하시오\n",
        "v1 = (1, 4)\n",
        "v2 = (4, 2)\n",
        "\n",
        "distance = abs(v1[0] - v2[0]) + abs(v1[1] - v2[1])\n",
        "print(distance)\n"
      ],
      "metadata": {
        "colab": {
          "base_uri": "https://localhost:8080/"
        },
        "id": "6Nceqn8vuXiB",
        "outputId": "80fa9a17-0a0a-4ad2-e4d6-3d9ad715f3a3"
      },
      "execution_count": 6,
      "outputs": [
        {
          "output_type": "stream",
          "name": "stdout",
          "text": [
            "5\n"
          ]
        }
      ]
    },
    {
      "cell_type": "code",
      "source": [
        "#(3)차수가 1일 때, 민코브스키 거리를 구하시오. 맨하탄 거리와 비교하시오.\n",
        "v1 = (1, 4)\n",
        "v2 = (4, 2)\n",
        "p = 1\n",
        "\n",
        "distance = ((abs(v1[0] - v2[0])**p + abs(v1[1] - v2[1])**p)**(1/p))\n",
        "print(distance)\n",
        "\n"
      ],
      "metadata": {
        "colab": {
          "base_uri": "https://localhost:8080/"
        },
        "id": "jGMaLZkMubeY",
        "outputId": "6f365352-001b-44ed-c5fb-61301225b2f2"
      },
      "execution_count": 8,
      "outputs": [
        {
          "output_type": "stream",
          "name": "stdout",
          "text": [
            "5.0\n"
          ]
        }
      ]
    },
    {
      "cell_type": "markdown",
      "source": [
        "차수가 1일 때,민코브스키 거리와 맨하탄 거리는 5로 똑같다."
      ],
      "metadata": {
        "id": "WBiml1IVvBdA"
      }
    },
    {
      "cell_type": "code",
      "source": [
        "#(4)차수가 2일 때, 민코브스키 거리를 구하시오. 유클리드 거리와 비교하시오.\n",
        "\n",
        "v1 = (1, 4)\n",
        "v2 = (4, 2)\n",
        "p = 2\n",
        "\n",
        "distance = ((abs(v1[0] - v2[0])**p + abs(v1[1] - v2[1])**p)**(1/p))\n",
        "print(distance)"
      ],
      "metadata": {
        "colab": {
          "base_uri": "https://localhost:8080/"
        },
        "id": "-gjxNpQlvHeQ",
        "outputId": "c8fe397a-29c8-4457-bba1-0a6db796669a"
      },
      "execution_count": 10,
      "outputs": [
        {
          "output_type": "stream",
          "name": "stdout",
          "text": [
            "3.605551275463989\n"
          ]
        }
      ]
    },
    {
      "cell_type": "markdown",
      "source": [
        "차수가 2일 때,민코브스키 거리와 유클리드 거리는 루트13으로 똑같다."
      ],
      "metadata": {
        "id": "EwkKrR_gvOHw"
      }
    },
    {
      "cell_type": "code",
      "source": [
        "#코사인 유사도를 계산하시오.\n",
        "import math\n",
        "\n",
        "vector1 = (1, 4)\n",
        "vector2 = (4, 2)\n",
        "\n",
        "dot_product = vector1[0]*vector2[0] + vector1[1]*vector2[1]\n",
        "magnitude_vector1 = math.sqrt(vector1[0]**2 + vector1[1]**2)\n",
        "magnitude_vector2 = math.sqrt(vector2[0]**2 + vector2[1]**2)\n",
        "\n",
        "cosine_similarity = dot_product / (magnitude_vector1 * magnitude_vector2)\n",
        "\n",
        "print(cosine_similarity)"
      ],
      "metadata": {
        "colab": {
          "base_uri": "https://localhost:8080/"
        },
        "id": "wS-Mjpp6vXjg",
        "outputId": "f434a562-0a7c-41c2-a9e8-e6e7c0da8328"
      },
      "execution_count": 16,
      "outputs": [
        {
          "output_type": "stream",
          "name": "stdout",
          "text": [
            "0.6507913734559685\n"
          ]
        }
      ]
    },
    {
      "cell_type": "markdown",
      "source": [
        "2. 테스트 데이터의 입력변수가(X1,X2)=(30,,6)일 때, 다음 기존 개체들과의 유클리드 거리를 구하고, K=3에 대한 최근접 이웃으로 분류 및 회귀분석을 하시오. 단, 목표변수는 분류문제에서는 y1,회귀분석에서는y2를 사용하시오."
      ],
      "metadata": {
        "id": "XGCFIbVPzJHw"
      }
    },
    {
      "cell_type": "code",
      "source": [
        "from sklearn.neighbors import KNeighborsClassifier\n",
        "from sklearn.preprocessing import StandardScaler\n",
        "import numpy as np\n",
        "import matplotlib.pyplot as plt "
      ],
      "metadata": {
        "id": "73EGihZ-zfo4"
      },
      "execution_count": 18,
      "outputs": []
    },
    {
      "cell_type": "code",
      "source": [
        "X_train = np.array([[10, 8],\n",
        "           [20, 4],\n",
        "           [20, 6],\n",
        "           [40, 4],\n",
        "           [50, 8]])\n",
        "y_train = np.array([0, 0, 0, 1, 1])"
      ],
      "metadata": {
        "id": "qSgnE7S-zggA"
      },
      "execution_count": 38,
      "outputs": []
    },
    {
      "cell_type": "code",
      "source": [
        "X_test = np.array([[30, 6]])"
      ],
      "metadata": {
        "id": "rn-y0qETzsBn"
      },
      "execution_count": 39,
      "outputs": []
    },
    {
      "cell_type": "code",
      "source": [
        "plt.scatter(X_train[:, 0],  X_train[:, 1], c=y_train) \n",
        "plt.scatter(X_test[:, 0],  X_test[:, 1], c='red', marker = 'D', s=50)\n",
        "plt.xlabel('x1')\n",
        "plt.ylabel('x2')\n",
        "plt.show() "
      ],
      "metadata": {
        "colab": {
          "base_uri": "https://localhost:8080/",
          "height": 449
        },
        "id": "PRmVgUzXzykh",
        "outputId": "ae4a98a1-ad2f-4177-af24-7e16c2426dc5"
      },
      "execution_count": 40,
      "outputs": [
        {
          "output_type": "display_data",
          "data": {
            "text/plain": [
              "<Figure size 640x480 with 1 Axes>"
            ],
            "image/png": "[encoded data removed]"
          },
          "metadata": {}
        }
      ]
    },
    {
      "cell_type": "code",
      "source": [
        "scalerX = StandardScaler()\n",
        "scalerX.fit(X_train)\n",
        "X_train_std = scalerX.transform(X_train)\n",
        "print(X_train_std)"
      ],
      "metadata": {
        "colab": {
          "base_uri": "https://localhost:8080/"
        },
        "id": "9rLK2MKzz-qv",
        "outputId": "cb08e2cf-4386-434c-d0a7-9c0ecb60d8d9"
      },
      "execution_count": 41,
      "outputs": [
        {
          "output_type": "stream",
          "name": "stdout",
          "text": [
            "[[-1.22474487  1.11803399]\n",
            " [-0.54433105 -1.11803399]\n",
            " [-0.54433105  0.        ]\n",
            " [ 0.81649658 -1.11803399]\n",
            " [ 1.4969104   1.11803399]]\n"
          ]
        }
      ]
    },
    {
      "cell_type": "code",
      "source": [
        "X_test_std = scalerX.transform(X_test)\n",
        "print(X_test_std)"
      ],
      "metadata": {
        "colab": {
          "base_uri": "https://localhost:8080/"
        },
        "id": "bjF4JXyZz_Jv",
        "outputId": "267786ab-8aae-48d0-910d-ae4a69314729"
      },
      "execution_count": 42,
      "outputs": [
        {
          "output_type": "stream",
          "name": "stdout",
          "text": [
            "[[0.13608276 0.        ]]\n"
          ]
        }
      ]
    },
    {
      "cell_type": "code",
      "source": [
        "knn = KNeighborsClassifier(n_neighbors = 3, metric='euclidean')\n",
        "knn.fit(X_train_std, y_train)"
      ],
      "metadata": {
        "colab": {
          "base_uri": "https://localhost:8080/",
          "height": 75
        },
        "id": "lNgUZILT0CfA",
        "outputId": "bd6c3984-77f4-44b6-dbc1-064bdef47aa9"
      },
      "execution_count": 43,
      "outputs": [
        {
          "output_type": "execute_result",
          "data": {
            "text/plain": [
              "KNeighborsClassifier(metric='euclidean', n_neighbors=3)"
            ],
            "text/html": [
              "<style>#sk-container-id-1 {color: black;background-color: white;}#sk-container-id-1 pre{padding: 0;}#sk-container-id-1 div.sk-toggleable {background-color: white;}#sk-container-id-1 label.sk-toggleable__label {cursor: pointer;display: block;width: 100%;margin-bottom: 0;padding: 0.3em;box-sizing: border-box;text-align: center;}#sk-container-id-1 label.sk-toggleable__label-arrow:before {content: \"▸\";float: left;margin-right: 0.25em;color: #696969;}#sk-container-id-1 label.sk-toggleable__label-arrow:hover:before {color: black;}#sk-container-id-1 div.sk-estimator:hover label.sk-toggleable__label-arrow:before {color: black;}#sk-container-id-1 div.sk-toggleable__content {max-height: 0;max-width: 0;overflow: hidden;text-align: left;background-color: #f0f8ff;}#sk-container-id-1 div.sk-toggleable__content pre {margin: 0.2em;color: black;border-radius: 0.25em;background-color: #f0f8ff;}#sk-container-id-1 input.sk-toggleable__control:checked~div.sk-toggleable__content {max-height: 200px;max-width: 100%;overflow: auto;}#sk-container-id-1 input.sk-toggleable__control:checked~label.sk-toggleable__label-arrow:before {content: \"▾\";}#sk-container-id-1 div.sk-estimator input.sk-toggleable__control:checked~label.sk-toggleable__label {background-color: #d4ebff;}#sk-container-id-1 div.sk-label input.sk-toggleable__control:checked~label.sk-toggleable__label {background-color: #d4ebff;}#sk-container-id-1 input.sk-hidden--visually {border: 0;clip: rect(1px 1px 1px 1px);clip: rect(1px, 1px, 1px, 1px);height: 1px;margin: -1px;overflow: hidden;padding: 0;position: absolute;width: 1px;}#sk-container-id-1 div.sk-estimator {font-family: monospace;background-color: #f0f8ff;border: 1px dotted black;border-radius: 0.25em;box-sizing: border-box;margin-bottom: 0.5em;}#sk-container-id-1 div.sk-estimator:hover {background-color: #d4ebff;}#sk-container-id-1 div.sk-parallel-item::after {content: \"\";width: 100%;border-bottom: 1px solid gray;flex-grow: 1;}#sk-container-id-1 div.sk-label:hover label.sk-toggleable__label {background-color: #d4ebff;}#sk-container-id-1 div.sk-serial::before {content: \"\";position: absolute;border-left: 1px solid gray;box-sizing: border-box;top: 0;bottom: 0;left: 50%;z-index: 0;}#sk-container-id-1 div.sk-serial {display: flex;flex-direction: column;align-items: center;background-color: white;padding-right: 0.2em;padding-left: 0.2em;position: relative;}#sk-container-id-1 div.sk-item {position: relative;z-index: 1;}#sk-container-id-1 div.sk-parallel {display: flex;align-items: stretch;justify-content: center;background-color: white;position: relative;}#sk-container-id-1 div.sk-item::before, #sk-container-id-1 div.sk-parallel-item::before {content: \"\";position: absolute;border-left: 1px solid gray;box-sizing: border-box;top: 0;bottom: 0;left: 50%;z-index: -1;}#sk-container-id-1 div.sk-parallel-item {display: flex;flex-direction: column;z-index: 1;position: relative;background-color: white;}#sk-container-id-1 div.sk-parallel-item:first-child::after {align-self: flex-end;width: 50%;}#sk-container-id-1 div.sk-parallel-item:last-child::after {align-self: flex-start;width: 50%;}#sk-container-id-1 div.sk-parallel-item:only-child::after {width: 0;}#sk-container-id-1 div.sk-dashed-wrapped {border: 1px dashed gray;margin: 0 0.4em 0.5em 0.4em;box-sizing: border-box;padding-bottom: 0.4em;background-color: white;}#sk-container-id-1 div.sk-label label {font-family: monospace;font-weight: bold;display: inline-block;line-height: 1.2em;}#sk-container-id-1 div.sk-label-container {text-align: center;}#sk-container-id-1 div.sk-container {/* jupyter's `normalize.less` sets `[hidden] { display: none; }` but bootstrap.min.css set `[hidden] { display: none !important; }` so we also need the `!important` here to be able to override the default hidden behavior on the sphinx rendered scikit-learn.org. See: https://github.com/scikit-learn/scikit-learn/issues/21755 */display: inline-block !important;position: relative;}#sk-container-id-1 div.sk-text-repr-fallback {display: none;}</style><div id=\"sk-container-id-1\" class=\"sk-top-container\"><div class=\"sk-text-repr-fallback\"><pre>KNeighborsClassifier(metric=&#x27;euclidean&#x27;, n_neighbors=3)</pre><b>In a Jupyter environment, please rerun this cell to show the HTML representation or trust the notebook. <br />On GitHub, the HTML representation is unable to render, please try loading this page with nbviewer.org.</b></div><div class=\"sk-container\" hidden><div class=\"sk-item\"><div class=\"sk-estimator sk-toggleable\"><input class=\"sk-toggleable__control sk-hidden--visually\" id=\"sk-estimator-id-1\" type=\"checkbox\" checked><label for=\"sk-estimator-id-1\" class=\"sk-toggleable__label sk-toggleable__label-arrow\">KNeighborsClassifier</label><div class=\"sk-toggleable__content\"><pre>KNeighborsClassifier(metric=&#x27;euclidean&#x27;, n_neighbors=3)</pre></div></div></div></div></div>"
            ]
          },
          "metadata": {},
          "execution_count": 43
        }
      ]
    },
    {
      "cell_type": "code",
      "source": [
        "# A로 분류되는것을 알수있음.\n",
        "pred = knn.predict(X_test_std)\n",
        "print(pred)"
      ],
      "metadata": {
        "colab": {
          "base_uri": "https://localhost:8080/"
        },
        "id": "ep0271kx0s14",
        "outputId": "967191c7-7aa0-45d1-8941-9187d0ef7ca2"
      },
      "execution_count": 44,
      "outputs": [
        {
          "output_type": "stream",
          "name": "stdout",
          "text": [
            "[0]\n"
          ]
        }
      ]
    },
    {
      "cell_type": "code",
      "source": [
        "knn.predict_proba(X_test_std)"
      ],
      "metadata": {
        "colab": {
          "base_uri": "https://localhost:8080/"
        },
        "id": "CQBqxYbM0viP",
        "outputId": "1d8f68ff-3cf6-42a6-e37d-5b7c1375b810"
      },
      "execution_count": 45,
      "outputs": [
        {
          "output_type": "execute_result",
          "data": {
            "text/plain": [
              "array([[0.66666667, 0.33333333]])"
            ]
          },
          "metadata": {},
          "execution_count": 45
        }
      ]
    },
    {
      "cell_type": "code",
      "source": [
        "dist, index = knn.kneighbors(X_test_std)\n",
        "print(dist)\n",
        "print(index)"
      ],
      "metadata": {
        "colab": {
          "base_uri": "https://localhost:8080/"
        },
        "id": "Ykb_TiGF0xff",
        "outputId": "3a501cc9-83fc-41bf-db84-0028243e9f9d"
      },
      "execution_count": 46,
      "outputs": [
        {
          "output_type": "stream",
          "name": "stdout",
          "text": [
            "[[0.68041382 1.30880211 1.30880211]]\n",
            "[[2 1 3]]\n"
          ]
        }
      ]
    },
    {
      "cell_type": "code",
      "source": [
        "from sklearn.neighbors import KNeighborsRegressor\n",
        "from sklearn.preprocessing import StandardScaler\n",
        "import numpy as np\n",
        "import matplotlib.pyplot as plt "
      ],
      "metadata": {
        "id": "NoCVdG1g00UP"
      },
      "execution_count": 64,
      "outputs": []
    },
    {
      "cell_type": "code",
      "source": [
        "X_train = np.array([[10, 8],\n",
        "           [20, 4],\n",
        "           [20, 6],\n",
        "           [40, 4],\n",
        "           [50, 8]])\n",
        " \n",
        "y_train = np.array([[100], [60], [50], [40], [100]])"
      ],
      "metadata": {
        "id": "_KXheoWt1dxw"
      },
      "execution_count": 65,
      "outputs": []
    },
    {
      "cell_type": "code",
      "source": [
        "X_test = np.array([[30, 6]])"
      ],
      "metadata": {
        "id": "MMpHr2zu264g"
      },
      "execution_count": 66,
      "outputs": []
    },
    {
      "cell_type": "code",
      "source": [
        "plt.scatter(X_train[:, 0], X_train[:, 1], c=y_train) \n",
        "plt.scatter(X_test[:, 0], X_test[:, 1], c='red', marker = 'D', s=100)\n",
        "plt.xlabel('x1')\n",
        "plt.ylabel('x2')\n",
        "plt.show() "
      ],
      "metadata": {
        "colab": {
          "base_uri": "https://localhost:8080/",
          "height": 449
        },
        "id": "1jXwt-ZN2Sxf",
        "outputId": "e4f827cf-b062-4318-ac58-020a5e7ee28f"
      },
      "execution_count": 67,
      "outputs": [
        {
          "output_type": "display_data",
          "data": {
            "text/plain": [
              "<Figure size 640x480 with 1 Axes>"
            ],
            "image/png": "[encoded data removed]"
          },
          "metadata": {}
        }
      ]
    },
    {
      "cell_type": "code",
      "source": [
        "scalerX = StandardScaler()\n",
        "scalerX.fit(X_train)\n",
        "X_train_std = scalerX.transform(X_train)\n",
        "print(X_train_std)\n",
        "\n",
        "scalerY = StandardScaler()\n",
        "scalerY.fit(y_train)\n",
        "y_train_std = scalerY.transform(y_train)\n",
        "print(y_train_std)"
      ],
      "metadata": {
        "colab": {
          "base_uri": "https://localhost:8080/"
        },
        "id": "nry9dutF2Xl_",
        "outputId": "85b3ffb7-b75a-41a8-f1c6-a7645607f82b"
      },
      "execution_count": 69,
      "outputs": [
        {
          "output_type": "stream",
          "name": "stdout",
          "text": [
            "[[-1.22474487  1.11803399]\n",
            " [-0.54433105 -1.11803399]\n",
            " [-0.54433105  0.        ]\n",
            " [ 0.81649658 -1.11803399]\n",
            " [ 1.4969104   1.11803399]]\n",
            "[[ 1.18585412]\n",
            " [-0.39528471]\n",
            " [-0.79056942]\n",
            " [-1.18585412]\n",
            " [ 1.18585412]]\n"
          ]
        }
      ]
    },
    {
      "cell_type": "code",
      "source": [
        "X_test_std = scalerX.transform(X_test)\n",
        "print(X_test_std)"
      ],
      "metadata": {
        "colab": {
          "base_uri": "https://localhost:8080/"
        },
        "id": "5QXJpzxd3or4",
        "outputId": "d5b5c2f6-cc50-403c-ac4e-ef5e9d758023"
      },
      "execution_count": 70,
      "outputs": [
        {
          "output_type": "stream",
          "name": "stdout",
          "text": [
            "[[0.13608276 0.        ]]\n"
          ]
        }
      ]
    },
    {
      "cell_type": "code",
      "source": [
        "knn = KNeighborsRegressor(n_neighbors = 3, metric='euclidean', weights=\"uniform\")\n",
        "knn.fit(X_train_std, y_train_std)"
      ],
      "metadata": {
        "colab": {
          "base_uri": "https://localhost:8080/",
          "height": 75
        },
        "id": "s9T2moKb3rW3",
        "outputId": "c5384462-6b1a-4d70-82ab-0893593ceef8"
      },
      "execution_count": 71,
      "outputs": [
        {
          "output_type": "execute_result",
          "data": {
            "text/plain": [
              "KNeighborsRegressor(metric='euclidean', n_neighbors=3)"
            ],
            "text/html": [
              "<style>#sk-container-id-2 {color: black;background-color: white;}#sk-container-id-2 pre{padding: 0;}#sk-container-id-2 div.sk-toggleable {background-color: white;}#sk-container-id-2 label.sk-toggleable__label {cursor: pointer;display: block;width: 100%;margin-bottom: 0;padding: 0.3em;box-sizing: border-box;text-align: center;}#sk-container-id-2 label.sk-toggleable__label-arrow:before {content: \"▸\";float: left;margin-right: 0.25em;color: #696969;}#sk-container-id-2 label.sk-toggleable__label-arrow:hover:before {color: black;}#sk-container-id-2 div.sk-estimator:hover label.sk-toggleable__label-arrow:before {color: black;}#sk-container-id-2 div.sk-toggleable__content {max-height: 0;max-width: 0;overflow: hidden;text-align: left;background-color: #f0f8ff;}#sk-container-id-2 div.sk-toggleable__content pre {margin: 0.2em;color: black;border-radius: 0.25em;background-color: #f0f8ff;}#sk-container-id-2 input.sk-toggleable__control:checked~div.sk-toggleable__content {max-height: 200px;max-width: 100%;overflow: auto;}#sk-container-id-2 input.sk-toggleable__control:checked~label.sk-toggleable__label-arrow:before {content: \"▾\";}#sk-container-id-2 div.sk-estimator input.sk-toggleable__control:checked~label.sk-toggleable__label {background-color: #d4ebff;}#sk-container-id-2 div.sk-label input.sk-toggleable__control:checked~label.sk-toggleable__label {background-color: #d4ebff;}#sk-container-id-2 input.sk-hidden--visually {border: 0;clip: rect(1px 1px 1px 1px);clip: rect(1px, 1px, 1px, 1px);height: 1px;margin: -1px;overflow: hidden;padding: 0;position: absolute;width: 1px;}#sk-container-id-2 div.sk-estimator {font-family: monospace;background-color: #f0f8ff;border: 1px dotted black;border-radius: 0.25em;box-sizing: border-box;margin-bottom: 0.5em;}#sk-container-id-2 div.sk-estimator:hover {background-color: #d4ebff;}#sk-container-id-2 div.sk-parallel-item::after {content: \"\";width: 100%;border-bottom: 1px solid gray;flex-grow: 1;}#sk-container-id-2 div.sk-label:hover label.sk-toggleable__label {background-color: #d4ebff;}#sk-container-id-2 div.sk-serial::before {content: \"\";position: absolute;border-left: 1px solid gray;box-sizing: border-box;top: 0;bottom: 0;left: 50%;z-index: 0;}#sk-container-id-2 div.sk-serial {display: flex;flex-direction: column;align-items: center;background-color: white;padding-right: 0.2em;padding-left: 0.2em;position: relative;}#sk-container-id-2 div.sk-item {position: relative;z-index: 1;}#sk-container-id-2 div.sk-parallel {display: flex;align-items: stretch;justify-content: center;background-color: white;position: relative;}#sk-container-id-2 div.sk-item::before, #sk-container-id-2 div.sk-parallel-item::before {content: \"\";position: absolute;border-left: 1px solid gray;box-sizing: border-box;top: 0;bottom: 0;left: 50%;z-index: -1;}#sk-container-id-2 div.sk-parallel-item {display: flex;flex-direction: column;z-index: 1;position: relative;background-color: white;}#sk-container-id-2 div.sk-parallel-item:first-child::after {align-self: flex-end;width: 50%;}#sk-container-id-2 div.sk-parallel-item:last-child::after {align-self: flex-start;width: 50%;}#sk-container-id-2 div.sk-parallel-item:only-child::after {width: 0;}#sk-container-id-2 div.sk-dashed-wrapped {border: 1px dashed gray;margin: 0 0.4em 0.5em 0.4em;box-sizing: border-box;padding-bottom: 0.4em;background-color: white;}#sk-container-id-2 div.sk-label label {font-family: monospace;font-weight: bold;display: inline-block;line-height: 1.2em;}#sk-container-id-2 div.sk-label-container {text-align: center;}#sk-container-id-2 div.sk-container {/* jupyter's `normalize.less` sets `[hidden] { display: none; }` but bootstrap.min.css set `[hidden] { display: none !important; }` so we also need the `!important` here to be able to override the default hidden behavior on the sphinx rendered scikit-learn.org. See: https://github.com/scikit-learn/scikit-learn/issues/21755 */display: inline-block !important;position: relative;}#sk-container-id-2 div.sk-text-repr-fallback {display: none;}</style><div id=\"sk-container-id-2\" class=\"sk-top-container\"><div class=\"sk-text-repr-fallback\"><pre>KNeighborsRegressor(metric=&#x27;euclidean&#x27;, n_neighbors=3)</pre><b>In a Jupyter environment, please rerun this cell to show the HTML representation or trust the notebook. <br />On GitHub, the HTML representation is unable to render, please try loading this page with nbviewer.org.</b></div><div class=\"sk-container\" hidden><div class=\"sk-item\"><div class=\"sk-estimator sk-toggleable\"><input class=\"sk-toggleable__control sk-hidden--visually\" id=\"sk-estimator-id-2\" type=\"checkbox\" checked><label for=\"sk-estimator-id-2\" class=\"sk-toggleable__label sk-toggleable__label-arrow\">KNeighborsRegressor</label><div class=\"sk-toggleable__content\"><pre>KNeighborsRegressor(metric=&#x27;euclidean&#x27;, n_neighbors=3)</pre></div></div></div></div></div>"
            ]
          },
          "metadata": {},
          "execution_count": 71
        }
      ]
    },
    {
      "cell_type": "code",
      "source": [
        "y_pred = knn.predict(X_test_std)\n",
        "print(y_pred)"
      ],
      "metadata": {
        "colab": {
          "base_uri": "https://localhost:8080/"
        },
        "id": "TDDbgVRL3vP4",
        "outputId": "fbf99483-fd92-4a29-ab64-159603996185"
      },
      "execution_count": 72,
      "outputs": [
        {
          "output_type": "stream",
          "name": "stdout",
          "text": [
            "[[-0.79056942]]\n"
          ]
        }
      ]
    },
    {
      "cell_type": "code",
      "source": [
        "#테스트 데이터의 예측 값은 -0.79056942이며, 실제 스케일로 역변환하면 50.0이 된다.\n",
        "y_pred_inverse = scalerY.inverse_transform(y_pred)\n",
        "print(y_pred_inverse)"
      ],
      "metadata": {
        "colab": {
          "base_uri": "https://localhost:8080/"
        },
        "id": "EaGrYrt13w6Y",
        "outputId": "9e150b70-3d2b-490c-acd0-a0f686811d83"
      },
      "execution_count": 73,
      "outputs": [
        {
          "output_type": "stream",
          "name": "stdout",
          "text": [
            "[[50.]]\n"
          ]
        }
      ]
    }
  ]
}